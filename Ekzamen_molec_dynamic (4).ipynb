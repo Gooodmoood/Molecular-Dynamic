{
 "cells": [
  {
   "cell_type": "code",
   "execution_count": 2,
   "metadata": {
    "ExecuteTime": {
     "end_time": "2019-06-08T14:37:56.729965Z",
     "start_time": "2019-06-08T14:37:56.727139Z"
    },
    "collapsed": false
   },
   "outputs": [],
   "source": [
    "import random\n",
    "import math\n",
    "import os\n",
    "import pylab\n",
    "import matplotlib.pyplot as plt\n",
    "import numpy as np\n",
    "import random as rand\n",
    "import time\n",
    "import pandas as pd\n",
    "%matplotlib inline\n",
    "output_dir = '/Users/Yaroslav/Desktop/Images'\n",
    "output_dir2 = \"/Users/Yaroslav/Desktop/Images\"\n",
    "pd.options.mode.chained_assignment = None"
   ]
  },
  {
   "cell_type": "code",
   "execution_count": 3,
   "metadata": {
    "collapsed": true
   },
   "outputs": [],
   "source": [
    "colors = ['r', 'b', 'g', 'orange', 'magenta', 'yellow', 'aqua', 'r', 'b', 'g', 'orange', 'magenta', 'yellow', 'r', 'aqua','g']\n",
    "fix_time_lst = []"
   ]
  },
  {
   "cell_type": "code",
   "execution_count": 4,
   "metadata": {
    "ExecuteTime": {
     "end_time": "2019-06-08T13:36:25.702151Z",
     "start_time": "2019-06-08T13:36:25.248329Z"
    },
    "collapsed": true
   },
   "outputs": [],
   "source": [
    "def direct_disks_box(N, sigma):\n",
    "    condition = False\n",
    "    while condition == False:\n",
    "        L = [(random.uniform(sigma, 16.0 - sigma), random.uniform(sigma, 16.0 - sigma))]\n",
    "        for k in range(1, N):\n",
    "            a = (random.uniform(sigma, 16.0 - sigma), random.uniform(sigma, 16.0 - sigma))\n",
    "            min_dist = min(math.sqrt((a[0] - b[0]) ** 2 + (a[1] - b[1]) ** 2) for b in L) \n",
    "            if min_dist < 2.0 * sigma: \n",
    "                condition = False\n",
    "                break\n",
    "            else:\n",
    "                L.append(a)\n",
    "                condition = True\n",
    "    return L\n",
    "img = 0\n",
    "if not os.path.exists(output_dir2): os.makedirs(output_dir)\n",
    "def snapshot(t, pos, vel, colors, arrow_scale=.2):\n",
    "    global img\n",
    "    pylab.cla()\n",
    "    pylab.axis([0, 16, 0, 16])\n",
    "    pylab.grid(True)\n",
    "    pylab.setp(pylab.gca(), xticks=[0, 16], yticks=[0, 16])\n",
    "    for (x, y), (dx, dy), c in zip(pos, vel, colors):\n",
    "        dx *= arrow_scale\n",
    "        dy *= arrow_scale\n",
    "        circle = pylab.Circle((x, y), radius=sigma, fc=c)\n",
    "        pylab.gca().add_patch(circle)\n",
    "        pylab.arrow( x, y, dx, dy, fc=\"k\", ec=\"k\", head_width=0.05, head_length=0.05 )\n",
    "    pylab.text(.5, 1.03, 't = %.2f' % t, ha='center')\n",
    "    pylab.grid(True)\n",
    "    pylab.savefig(os.path.join(output_dir, '%04i.png' % img))\n",
    "    img += 1\n"
   ]
  },
  {
   "cell_type": "code",
   "execution_count": 6,
   "metadata": {
    "collapsed": true
   },
   "outputs": [],
   "source": [
    "# time to reach the wall\n",
    "def wall_time(pos_a, vel_a, sigma):\n",
    "    if vel_a > 0.0:\n",
    "        del_t = (16.0 - sigma - pos_a) / vel_a\n",
    "    elif vel_a < 0.0:\n",
    "        del_t = (pos_a - sigma) / abs(vel_a)\n",
    "    else:\n",
    "        del_t = float('inf')\n",
    "    return del_t\n",
    "\n",
    "# time to reach another disk\n",
    "def pair_time(pos_a, vel_a, pos_b, vel_b, sigma):\n",
    "    del_x = [pos_b[0] - pos_a[0], pos_b[1] - pos_a[1]]\n",
    "    del_x_sq = del_x[0] ** 2 + del_x[1] ** 2\n",
    "    del_v = [vel_b[0] - vel_a[0], vel_b[1] - vel_a[1]]\n",
    "    del_v_sq = del_v[0] ** 2 + del_v[1] ** 2\n",
    "    scal = del_v[0] * del_x[0] + del_v[1] * del_x[1]\n",
    "    Upsilon = scal ** 2 - del_v_sq * (del_x_sq - 4.0 * sigma ** 2)\n",
    "    if Upsilon > 0.0 and scal < 0.0:\n",
    "        del_t = - (scal + math.sqrt(Upsilon)) / del_v_sq\n",
    "    else:\n",
    "        del_t = float('inf')\n",
    "    return del_t\n",
    "\n",
    "def min_arg(l):\n",
    "    return min(zip(l, range(len(l))))\n",
    "\n",
    "def compute_next_event(pos, vel):\n",
    "    wall_times = [wall_time(pos[k][l], vel[k][l], sigma) for k, l in singles]\n",
    "    pair_times = [pair_time(pos[k], vel[k], pos[l], vel[l], sigma) for k, l in pairs]\n",
    "    return min_arg(wall_times + pair_times)\n",
    "def compute_next_event_cells(pos, vel):\n",
    "    wall_times = [wall_time(pos[k][l], vel[k][l], sigma) for k, l in singles]\n",
    "    pairs = get_pairs()\n",
    "    pair_times = [pair_time(pos[k], vel[k], pos[l], vel[l], sigma) for k, l in pairs]\n",
    "    return min_arg(wall_times + pair_times)\n",
    "\n",
    "def compute_pair_event(pos, vel):\n",
    "    pair_times = [pair_time(pos[k], vel[k], pos[l], vel[l], sigma) for k, l in pairs]\n",
    "    return min_arg(pair_times)\n",
    "\n",
    "def compute_new_velocities(pos, vel, next_event_arg):\n",
    "    if next_event_arg < len(singles):\n",
    "        collision_disk, direction = singles[next_event_arg]\n",
    "        vel[collision_disk][direction] *= -1.0\n",
    "    else:\n",
    "        a, b = pairs[next_event_arg - len(singles)]\n",
    "        del_x = [pos[b][0] - pos[a][0], pos[b][1] - pos[a][1]]\n",
    "        abs_x = math.sqrt(del_x[0] ** 2 + del_x[1] ** 2)\n",
    "        e_perp = [c / abs_x for c in del_x]\n",
    "        del_v = [vel[b][0] - vel[a][0], vel[b][1] - vel[a][1]]\n",
    "        scal = del_v[0] * e_perp[0] + del_v[1] * e_perp[1]\n",
    "        for k in range(2):\n",
    "            vel[a][k] += e_perp[k] * scal\n",
    "            vel[b][k] -= e_perp[k] * scal\n"
   ]
  },
  {
   "cell_type": "code",
   "execution_count": 7,
   "metadata": {
    "collapsed": false
   },
   "outputs": [],
   "source": [
    "def dist (a, b):\n",
    "   \"\"\" distance between two two-dimensional points a and b\"\"\"\n",
    "   delta_x = (a[0] - b[0])\n",
    "   delta_y = (a[1] - b[1])\n",
    "   return norm (delta_x, delta_y)\n",
    "def dist_v (a, b):\n",
    "   \"\"\" distance between two two-dimensional points a and b\"\"\"\n",
    "   delta_x = (a[0] - b[0])\n",
    "   delta_y = (a[1] - b[1])\n",
    "   return [delta_x, delta_y]\n",
    "\n",
    "def norm (x, y):\n",
    "    \"\"\"norm of a two-dimensional vector\"\"\"\n",
    "    return (x*x + y*y) ** 0.5\n",
    "def scalar(x,y):\n",
    "    return (x[0]*y[0] + x[1]*y[1])"
   ]
  },
  {
   "cell_type": "markdown",
   "metadata": {},
   "source": [
    "# Without cell - method"
   ]
  },
  {
   "cell_type": "code",
   "execution_count": 15,
   "metadata": {
    "ExecuteTime": {
     "end_time": "2019-06-08T15:07:44.509149Z",
     "start_time": "2019-06-08T14:58:17.643879Z"
    },
    "collapsed": false,
    "scrolled": true
   },
   "outputs": [
    {
     "name": "stdout",
     "output_type": "stream",
     "text": [
      "0.1400653488589596\n",
      "time 0.25\n",
      "0.12182411266640536\n",
      "time 0.5\n",
      "0.07783581076957335\n",
      "time 0.75\n",
      "0.09662978496914587\n",
      "time 1.0\n",
      "0.25\n",
      "time 1.25\n",
      "0.003768061691883151\n",
      "time 1.5\n",
      "0.25\n",
      "time 1.75\n",
      "0.25\n",
      "time 2.0\n",
      "0.16953583630779478\n",
      "time 2.25\n",
      "0.25\n",
      "time 2.5\n",
      "Elapsed time 2.4435842037200928\n"
     ]
    },
    {
     "data": {
      "image/png": "[encoded data removed]",
      "text/plain": [
       "<matplotlib.figure.Figure at 0x24d79b2b080>"
      ]
     },
     "metadata": {},
     "output_type": "display_data"
    }
   ],
   "source": [
    "start_time = time.time()\n",
    "\n",
    "pylab.subplots_adjust(left=0.10, right=0.90, top=0.90, bottom=0.10)\n",
    "pylab.gcf().set_size_inches(16, 16)\n",
    "img = 0\n",
    "sigma = 1  # radius\n",
    "t = 0.0    # start time\n",
    "dt = 0.25     # dt=0 corresponds to event-to-event animation\n",
    "n_steps = 10\n",
    "# 10 disks\n",
    "#pos = [[4.463191404840118, 6.19123316270451],\n",
    "# [1.627027851140511, 3.6961908799613816],\n",
    "# [1.3431960236103038, 1.021100095422872],\n",
    "# [7.640193160602836, 1.01486489987931],\n",
    "# [7.209054631246051, 6.970585448383236],\n",
    "# [8.171726919348593, 8.890904037841427],\n",
    "# [6.963892502585488, 3.563406437614188],\n",
    "# [1.2238746799707734, 8.727599966401753],\n",
    "# [5.19038020443, 8.908466515143294],\n",
    "# [1.2276905017296267, 5.79964980336199]]\n",
    "\n",
    "\n",
    "pos = [[9.808842091076627, 6.865939943544603], \n",
    "       [7.598628119917539, 5.436089923577787], \n",
    "       [1.021986930228208, 7.8522291815503875], \n",
    "       [13.363710306791141, 2.8161751038100387], \n",
    "       [2.509576532907246, 1.1207967780923749], \n",
    "       [7.941311926349005, 12.318798041448767], \n",
    "       [12.178167114183278, 9.115814263386335], \n",
    "       [4.767055972084483, 5.938936805888761], \n",
    "       [5.959615768228026, 2.3314424067451576], \n",
    "       [14.640236456051092, 1.0756819860459115]]\n",
    "\n",
    "\n",
    "vel = [[0.1, 0.9], [0.2, 0.8], [-0.2, -0.8], [0.9, 0.1],\n",
    "      [0.7, 0.3], [0.4, 0.6], [-0.8, -0.2], [0.3, 0.7],\n",
    "      [0.5, 0.5], [0.6, 0.4]]\n",
    "singles = [(0, 0), (0, 1), (1, 0), (1, 1), (2, 0), (2, 1), (3, 0), (3, 1),\n",
    "          (4, 0), (4, 1),(5, 0), (5, 1),(6, 0), (6, 1),(7, 0), (7, 1),\n",
    "          (8, 0), (8, 1),(9, 0), (9, 1)]\n",
    "pairs = [(0, 1), (0, 2), (0, 3), (0, 4), (0, 5),\n",
    "         (0, 6), (0, 7), (0, 8), (0, 9),\n",
    "         (1, 2), (1, 3), (1, 4), (1, 5),\n",
    "         (1, 6), (1, 7), (1, 8), (1, 9),\n",
    "         (2, 3), (2, 4), (2, 5), (2, 6), \n",
    "         (2, 7), (2, 8), (2, 9), (3, 4), (3, 5), (3, 6), \n",
    "         (3, 7), (3, 8), (3, 9), (4, 5), (4, 6), \n",
    "         (4, 7), (4, 8), (4, 9), (5, 6), \n",
    "         (5, 7), (5, 8), (5, 9), (6, 7), (6, 8), (6, 9),\n",
    "         (7, 8), (7, 9),\n",
    "         (8, 9)]\n",
    "\n",
    "next_event, next_event_arg = compute_next_event(pos, vel)\n",
    "snapshot(t, pos, vel, colors)\n",
    "\n",
    "for step in range(n_steps):\n",
    "    if dt:\n",
    "        next_t = t + dt\n",
    "    else:\n",
    "        next_t = t + next_event\n",
    "    while t + next_event <= next_t:\n",
    "        t += next_event\n",
    "        for k, l in singles: pos[k][l] += vel[k][l] * next_event\n",
    "        compute_new_velocities(pos, vel, next_event_arg)\n",
    "        next_event, next_event_arg = compute_next_event(pos, vel)\n",
    "    remain_t = next_t - t\n",
    "    print (remain_t)\n",
    "    fix_time_lst.append (remain_t)\n",
    "    \n",
    "    for k, l in singles: \n",
    "        pos[k][l] += vel[k][l] * remain_t\n",
    "    t += remain_t\n",
    "    next_event -= remain_t\n",
    "    snapshot(t, pos, vel, colors)\n",
    "    print ('time',t)\n",
    "elapsed_time = time.time() - start_time\n",
    "print(\"Elapsed time\", elapsed_time)"
   ]
  },
  {
   "cell_type": "code",
   "execution_count": null,
   "metadata": {
    "collapsed": true
   },
   "outputs": [],
   "source": []
  },
  {
   "cell_type": "markdown",
   "metadata": {},
   "source": [
    "# With cell - method"
   ]
  },
  {
   "cell_type": "code",
   "execution_count": 19,
   "metadata": {
    "collapsed": false
   },
   "outputs": [],
   "source": [
    "start_time = time.time()\n",
    "img = 0\n",
    "sigma = 1  # radius\n",
    "t = 0.0    # start time\n",
    "dt = 0.25     # dt=0 corresponds to event-to-event animation\n",
    "n_steps = 10\n",
    "data = pd.DataFrame(columns=['pos_x', 'pos_y', 'vel_x', 'vel_y', 'cell'])\n",
    "pos = [[9.808842091076627, 6.865939943544603], \n",
    "       [7.598628119917539, 5.436089923577787], \n",
    "       [1.021986930228208, 7.8522291815503875], \n",
    "       [13.363710306791141, 2.8161751038100387], \n",
    "       [2.509576532907246, 1.1207967780923749], \n",
    "       [7.941311926349005, 12.318798041448767], \n",
    "       [12.178167114183278, 9.115814263386335], \n",
    "       [4.767055972084483, 5.938936805888761], \n",
    "       [5.959615768228026, 2.3314424067451576], \n",
    "       [14.640236456051092, 1.0756819860459115]]\n",
    "vel = [[0.1, 0.9], [0.2, 0.8], [-0.2, -0.8], [0.9, 0.1],\n",
    "      [0.7, 0.3], [0.4, 0.6], [-0.8, -0.2], [0.3, 0.7],\n",
    "      [0.5, 0.5], [0.6, 0.4]]\n"
   ]
  },
  {
   "cell_type": "code",
   "execution_count": 22,
   "metadata": {
    "collapsed": true
   },
   "outputs": [],
   "source": [
    "data = pd.DataFrame(columns=['pos_x', 'pos_y', 'vel_x', 'vel_y', 'cell'])\n",
    "for i in pos:\n",
    "    df_tmp = pd.DataFrame({'pos_x':[i[0]], 'pos_y':[i[1]]})\n",
    "    data = data.append(df_tmp, ignore_index=True)"
   ]
  },
  {
   "cell_type": "code",
   "execution_count": 23,
   "metadata": {
    "collapsed": false
   },
   "outputs": [],
   "source": [
    "def refresh_data():\n",
    "    global data\n",
    "    k = 0\n",
    "    for i in vel:\n",
    "        data['vel_x'][k] = i[0]\n",
    "        data['vel_y'][k] = i[1]\n",
    "        k +=1;\n",
    "    for index, row in data.iterrows():\n",
    "        if (row['pos_x'] > 0) and (row['pos_x'] < 4) and (row['pos_y'] > 0) and (row['pos_y'] < 4):\n",
    "            data['cell'][index] = 1\n",
    "        if (row['pos_x'] > 4) and (row['pos_x'] < 8) and (row['pos_y'] > 0) and (row['pos_y'] < 4):\n",
    "            data['cell'][index] = 2\n",
    "        if (row['pos_x'] > 8) and (row['pos_x'] < 12) and (row['pos_y'] > 0) and (row['pos_y'] < 4):\n",
    "            data['cell'][index] = 3\n",
    "        if (row['pos_x'] > 12) and (row['pos_x'] < 16) and (row['pos_y'] > 0) and (row['pos_y'] < 4):\n",
    "            data['cell'][index] = 4\n",
    "\n",
    "        if (row['pos_x'] > 0) and (row['pos_x'] < 4) and (row['pos_y'] > 4) and (row['pos_y'] < 8):\n",
    "            data['cell'][index] = 5\n",
    "        if (row['pos_x'] > 4) and (row['pos_x'] < 8) and (row['pos_y'] > 4) and (row['pos_y'] < 8):\n",
    "            data['cell'][index] = 6\n",
    "        if (row['pos_x'] > 8) and (row['pos_x'] < 12) and (row['pos_y'] > 4) and (row['pos_y'] < 8):\n",
    "            data['cell'][index] = 7\n",
    "        if (row['pos_x'] > 12) and (row['pos_x'] < 16) and (row['pos_y'] > 4) and (row['pos_y'] < 8):\n",
    "            data['cell'][index] = 8    \n",
    "\n",
    "        if (row['pos_x'] > 0) and (row['pos_x'] < 4) and (row['pos_y'] > 8) and (row['pos_y'] < 12):\n",
    "            data['cell'][index] = 9\n",
    "        if (row['pos_x'] > 4) and (row['pos_x'] < 8) and (row['pos_y'] > 8) and (row['pos_y'] < 12):\n",
    "            data['cell'][index] = 10\n",
    "        if (row['pos_x'] > 8) and (row['pos_x'] < 12) and (row['pos_y'] > 8) and (row['pos_y'] < 12):\n",
    "            data['cell'][index] = 11\n",
    "        if (row['pos_x'] > 12) and (row['pos_x'] < 16) and (row['pos_y'] > 8) and (row['pos_y'] < 12):\n",
    "            data['cell'][index] = 12    \n",
    "\n",
    "        if (row['pos_x'] > 0) and (row['pos_x'] < 4) and (row['pos_y'] > 12) and (row['pos_y'] < 16):\n",
    "            data['cell'][index] = 13\n",
    "        if (row['pos_x'] > 4) and (row['pos_x'] < 8) and (row['pos_y'] > 12) and (row['pos_y'] < 16):\n",
    "            data['cell'][index] = 14\n",
    "        if (row['pos_x'] > 8) and (row['pos_x'] < 12) and (row['pos_y'] > 12) and (row['pos_y'] < 16):\n",
    "            data['cell'][index] = 15\n",
    "        if (row['pos_x'] > 12) and (row['pos_x'] < 16) and (row['pos_y'] > 12) and (row['pos_y'] < 16):\n",
    "            data['cell'][index] = 16\n",
    "matching = [\n",
    "    (1,1), (1,2), (1,5), (2,2), (2,3), (2,1), (2,6), (3,3), (3,2), (3,4), (3,7), (4,4), (4,3), (4,8),\n",
    "    (5,5), (5,1), (5,6), (5,9), (6,6), (6,5), (6,2), (6,7), (6,10), (7,7), (7,6), (7,3), (7,8), (7,11),\n",
    "    (8,8), (8,7), (8,4), (8,12),\n",
    "    (9,9), (9,5), (9,10), (9,13), (10,10), (10,9), (10,6), (10,11), (10,14), (11,11), (11,10), (11,7), (11,12), (11,15),\n",
    "    (12,12), (12,11), (12,8), (12,16),\n",
    "    (13,13), (13,9), (13,14), (14,14), (14,13), (14,10), (14,15), (15,15), (15,14), (15,11), (15,16), (16,16), (16,15), (16,12)]\n",
    "\n",
    "def get_pairs():\n",
    "    global pairs\n",
    "    refresh_data()\n",
    "    pairs_new = []\n",
    "    for m in matching:\n",
    "        for index1, row1 in data.iterrows():\n",
    "            for index2, row2 in data.iterrows():\n",
    "                if (index2>index1) and  (row1['cell'] == m[0]) and (row2['cell'] == m[1]):\n",
    "                    pairs_new.append((index1, index2))\n",
    "    return pairs_new\n"
   ]
  },
  {
   "cell_type": "code",
   "execution_count": null,
   "metadata": {
    "collapsed": false
   },
   "outputs": [],
   "source": []
  },
  {
   "cell_type": "code",
   "execution_count": 24,
   "metadata": {
    "collapsed": false
   },
   "outputs": [
    {
     "name": "stdout",
     "output_type": "stream",
     "text": [
      "[(4, 8), (3, 9), (2, 4), (2, 7), (1, 7), (1, 2), (1, 8), (7, 8), (0, 1), (0, 7)]\n"
     ]
    }
   ],
   "source": [
    "pairs = get_pairs()\n",
    "print(pairs)"
   ]
  },
  {
   "cell_type": "code",
   "execution_count": 26,
   "metadata": {
    "collapsed": false
   },
   "outputs": [
    {
     "name": "stdout",
     "output_type": "stream",
     "text": [
      "0.3278358107695739\n",
      "time 1.0\n",
      "0.5037680616918894\n",
      "time 2.0\n",
      "1.0\n",
      "time 3.0\n",
      "0.9001868965464639\n",
      "time 4.0\n",
      "0.5313300690812772\n",
      "time 5.0\n",
      "1.0\n",
      "time 6.0\n",
      "1.0\n",
      "time 7.0\n",
      "1.0\n",
      "time 8.0\n",
      "0.35448356894477584\n",
      "time 9.0\n",
      "0.4723125671782977\n",
      "time 10.0\n",
      "Elapsed time 103.26262497901917\n"
     ]
    },
    {
     "data": {
      "image/png": "[encoded data removed]",
      "text/plain": [
       "<matplotlib.figure.Figure at 0x24d79fa7be0>"
      ]
     },
     "metadata": {},
     "output_type": "display_data"
    }
   ],
   "source": [
    "pylab.subplots_adjust(left=0.10, right=0.90, top=0.90, bottom=0.10)\n",
    "pylab.gcf().set_size_inches(16, 16)\n",
    "sigma = 1  # radius\n",
    "t = 0.0    # start time\n",
    "dt = 1     # dt=0 corresponds to event-to-event animation\n",
    "n_steps = 10\n",
    "# 10 disks\n",
    "\n",
    "pos = [[9.808842091076627, 6.865939943544603], \n",
    "       [7.598628119917539, 5.436089923577787], \n",
    "       [1.021986930228208, 7.8522291815503875], \n",
    "       [13.363710306791141, 2.8161751038100387], \n",
    "       [2.509576532907246, 1.1207967780923749], \n",
    "       [7.941311926349005, 12.318798041448767], \n",
    "       [12.178167114183278, 9.115814263386335], \n",
    "       [4.767055972084483, 5.938936805888761], \n",
    "       [5.959615768228026, 2.3314424067451576], \n",
    "       [14.640236456051092, 1.0756819860459115]]\n",
    "\n",
    "\n",
    "vel = [[0.1, 0.9], [0.2, 0.8], [-0.2, -0.8], [0.9, 0.1],\n",
    "      [0.7, 0.3], [0.4, 0.6], [-0.8, -0.2], [0.3, 0.7],\n",
    "      [0.5, 0.5], [0.6, 0.4]]\n",
    "singles = [(0, 0), (0, 1), (1, 0), (1, 1), (2, 0), (2, 1), (3, 0), (3, 1),\n",
    "          (4, 0), (4, 1),(5, 0), (5, 1),(6, 0), (6, 1),(7, 0), (7, 1),\n",
    "          (8, 0), (8, 1),(9, 0), (9, 1)]\n",
    "\n",
    "pairs = get_pairs()\n",
    "\n",
    "next_event, next_event_arg = compute_next_event(pos, vel)\n",
    "snapshot(t, pos, vel, colors)\n",
    "\n",
    "for step in range(n_steps):\n",
    "    if dt:\n",
    "        next_t = t + dt\n",
    "    else:\n",
    "        next_t = t + next_event\n",
    "    while t + next_event <= next_t:\n",
    "        t += next_event\n",
    "        for k, l in singles: pos[k][l] += vel[k][l] * next_event\n",
    "        compute_new_velocities(pos, vel, next_event_arg)\n",
    "        pairs = get_pairs()\n",
    "        next_event, next_event_arg = compute_next_event(pos, vel)\n",
    "    remain_t = next_t - t\n",
    "    print (remain_t)\n",
    "    fix_time_lst.append (remain_t)\n",
    "    \n",
    "    for k, l in singles: \n",
    "        pos[k][l] += vel[k][l] * remain_t\n",
    "    t += remain_t\n",
    "    next_event -= remain_t\n",
    "    snapshot(t, pos, vel, colors)\n",
    "    print ('time',t)\n",
    "elapsed_time = time.time() - start_time\n",
    "print(\"Elapsed time\", elapsed_time)\n"
   ]
  },
  {
   "cell_type": "code",
   "execution_count": null,
   "metadata": {
    "collapsed": true
   },
   "outputs": [],
   "source": []
  },
  {
   "cell_type": "code",
   "execution_count": null,
   "metadata": {
    "collapsed": true
   },
   "outputs": [],
   "source": []
  }
 ],
 "metadata": {
  "kernelspec": {
   "display_name": "Python 3",
   "language": "python",
   "name": "python3"
  },
  "language_info": {
   "codemirror_mode": {
    "name": "ipython",
    "version": 3
   },
   "file_extension": ".py",
   "mimetype": "text/x-python",
   "name": "python",
   "nbconvert_exporter": "python",
   "pygments_lexer": "ipython3",
   "version": "3.6.0"
  },
  "toc": {
   "base_numbering": 1,
   "nav_menu": {},
   "number_sections": true,
   "sideBar": true,
   "skip_h1_title": false,
   "title_cell": "Table of Contents",
   "title_sidebar": "Contents",
   "toc_cell": false,
   "toc_position": {},
   "toc_section_display": true,
   "toc_window_display": false
  },
  "varInspector": {
   "cols": {
    "lenName": 16,
    "lenType": 16,
    "lenVar": 40
   },
   "kernels_config": {
    "python": {
     "delete_cmd_postfix": "",
     "delete_cmd_prefix": "del ",
     "library": "var_list.py",
     "varRefreshCmd": "print(var_dic_list())"
    },
    "r": {
     "delete_cmd_postfix": ") ",
     "delete_cmd_prefix": "rm(",
     "library": "var_list.r",
     "varRefreshCmd": "cat(var_dic_list()) "
    }
   },
   "types_to_exclude": [
    "module",
    "function",
    "builtin_function_or_method",
    "instance",
    "_Feature"
   ],
   "window_display": false
  }
 },
 "nbformat": 4,
 "nbformat_minor": 2
}
